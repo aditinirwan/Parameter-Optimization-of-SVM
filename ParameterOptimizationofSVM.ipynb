{
 "cells": [
  {
   "cell_type": "code",
   "execution_count": 21,
   "metadata": {},
   "outputs": [],
   "source": [
    "import pandas as pd\n",
    "import numpy as np"
   ]
  },
  {
   "cell_type": "code",
   "execution_count": 3,
   "metadata": {},
   "outputs": [],
   "source": [
    "import matplotlib.pyplot as plt\n",
    "import seaborn as sns\n",
    "from sklearn.model_selection import GridSearchCV, learning_curve\n",
    "from sklearn.svm import SVC\n",
    "from sklearn.metrics import accuracy_score\n",
    "from sklearn.preprocessing import StandardScaler\n"
   ]
  },
  {
   "cell_type": "code",
   "execution_count": 2,
   "metadata": {},
   "outputs": [],
   "source": [
    "df = pd.read_csv('https://archive.ics.uci.edu/ml/machine-learning-databases/abalone/abalone.data')"
   ]
  },
  {
   "cell_type": "code",
   "execution_count": 4,
   "metadata": {},
   "outputs": [],
   "source": [
    "import warnings\n",
    "warnings.filterwarnings('ignore')"
   ]
  },
  {
   "cell_type": "code",
   "execution_count": 5,
   "metadata": {},
   "outputs": [
    {
     "data": {
      "text/html": [
       "<div>\n",
       "<style scoped>\n",
       "    .dataframe tbody tr th:only-of-type {\n",
       "        vertical-align: middle;\n",
       "    }\n",
       "\n",
       "    .dataframe tbody tr th {\n",
       "        vertical-align: top;\n",
       "    }\n",
       "\n",
       "    .dataframe thead th {\n",
       "        text-align: right;\n",
       "    }\n",
       "</style>\n",
       "<table border=\"1\" class=\"dataframe\">\n",
       "  <thead>\n",
       "    <tr style=\"text-align: right;\">\n",
       "      <th></th>\n",
       "      <th>M</th>\n",
       "      <th>0.455</th>\n",
       "      <th>0.365</th>\n",
       "      <th>0.095</th>\n",
       "      <th>0.514</th>\n",
       "      <th>0.2245</th>\n",
       "      <th>0.101</th>\n",
       "      <th>0.15</th>\n",
       "      <th>15</th>\n",
       "    </tr>\n",
       "  </thead>\n",
       "  <tbody>\n",
       "    <tr>\n",
       "      <th>0</th>\n",
       "      <td>M</td>\n",
       "      <td>0.350</td>\n",
       "      <td>0.265</td>\n",
       "      <td>0.090</td>\n",
       "      <td>0.2255</td>\n",
       "      <td>0.0995</td>\n",
       "      <td>0.0485</td>\n",
       "      <td>0.070</td>\n",
       "      <td>7</td>\n",
       "    </tr>\n",
       "    <tr>\n",
       "      <th>1</th>\n",
       "      <td>F</td>\n",
       "      <td>0.530</td>\n",
       "      <td>0.420</td>\n",
       "      <td>0.135</td>\n",
       "      <td>0.6770</td>\n",
       "      <td>0.2565</td>\n",
       "      <td>0.1415</td>\n",
       "      <td>0.210</td>\n",
       "      <td>9</td>\n",
       "    </tr>\n",
       "    <tr>\n",
       "      <th>2</th>\n",
       "      <td>M</td>\n",
       "      <td>0.440</td>\n",
       "      <td>0.365</td>\n",
       "      <td>0.125</td>\n",
       "      <td>0.5160</td>\n",
       "      <td>0.2155</td>\n",
       "      <td>0.1140</td>\n",
       "      <td>0.155</td>\n",
       "      <td>10</td>\n",
       "    </tr>\n",
       "    <tr>\n",
       "      <th>3</th>\n",
       "      <td>I</td>\n",
       "      <td>0.330</td>\n",
       "      <td>0.255</td>\n",
       "      <td>0.080</td>\n",
       "      <td>0.2050</td>\n",
       "      <td>0.0895</td>\n",
       "      <td>0.0395</td>\n",
       "      <td>0.055</td>\n",
       "      <td>7</td>\n",
       "    </tr>\n",
       "    <tr>\n",
       "      <th>4</th>\n",
       "      <td>I</td>\n",
       "      <td>0.425</td>\n",
       "      <td>0.300</td>\n",
       "      <td>0.095</td>\n",
       "      <td>0.3515</td>\n",
       "      <td>0.1410</td>\n",
       "      <td>0.0775</td>\n",
       "      <td>0.120</td>\n",
       "      <td>8</td>\n",
       "    </tr>\n",
       "  </tbody>\n",
       "</table>\n",
       "</div>"
      ],
      "text/plain": [
       "   M  0.455  0.365  0.095   0.514  0.2245   0.101   0.15  15\n",
       "0  M  0.350  0.265  0.090  0.2255  0.0995  0.0485  0.070   7\n",
       "1  F  0.530  0.420  0.135  0.6770  0.2565  0.1415  0.210   9\n",
       "2  M  0.440  0.365  0.125  0.5160  0.2155  0.1140  0.155  10\n",
       "3  I  0.330  0.255  0.080  0.2050  0.0895  0.0395  0.055   7\n",
       "4  I  0.425  0.300  0.095  0.3515  0.1410  0.0775  0.120   8"
      ]
     },
     "execution_count": 5,
     "metadata": {},
     "output_type": "execute_result"
    }
   ],
   "source": [
    "df.head()"
   ]
  },
  {
   "cell_type": "code",
   "execution_count": 8,
   "metadata": {},
   "outputs": [],
   "source": [
    "df.columns = ['Sex','Length','Diameter','Height','Whole Weight','Shuckled Weight','Viscera Weight','Shell Weight','Rings']"
   ]
  },
  {
   "cell_type": "code",
   "execution_count": 10,
   "metadata": {},
   "outputs": [
    {
     "data": {
      "text/html": [
       "<div>\n",
       "<style scoped>\n",
       "    .dataframe tbody tr th:only-of-type {\n",
       "        vertical-align: middle;\n",
       "    }\n",
       "\n",
       "    .dataframe tbody tr th {\n",
       "        vertical-align: top;\n",
       "    }\n",
       "\n",
       "    .dataframe thead th {\n",
       "        text-align: right;\n",
       "    }\n",
       "</style>\n",
       "<table border=\"1\" class=\"dataframe\">\n",
       "  <thead>\n",
       "    <tr style=\"text-align: right;\">\n",
       "      <th></th>\n",
       "      <th>Sex</th>\n",
       "      <th>Length</th>\n",
       "      <th>Diameter</th>\n",
       "      <th>Height</th>\n",
       "      <th>Whole Weight</th>\n",
       "      <th>Shuckled Weight</th>\n",
       "      <th>Viscera Weight</th>\n",
       "      <th>Shell Weight</th>\n",
       "      <th>Rings</th>\n",
       "    </tr>\n",
       "  </thead>\n",
       "  <tbody>\n",
       "    <tr>\n",
       "      <th>0</th>\n",
       "      <td>M</td>\n",
       "      <td>0.350</td>\n",
       "      <td>0.265</td>\n",
       "      <td>0.090</td>\n",
       "      <td>0.2255</td>\n",
       "      <td>0.0995</td>\n",
       "      <td>0.0485</td>\n",
       "      <td>0.070</td>\n",
       "      <td>7</td>\n",
       "    </tr>\n",
       "    <tr>\n",
       "      <th>1</th>\n",
       "      <td>F</td>\n",
       "      <td>0.530</td>\n",
       "      <td>0.420</td>\n",
       "      <td>0.135</td>\n",
       "      <td>0.6770</td>\n",
       "      <td>0.2565</td>\n",
       "      <td>0.1415</td>\n",
       "      <td>0.210</td>\n",
       "      <td>9</td>\n",
       "    </tr>\n",
       "    <tr>\n",
       "      <th>2</th>\n",
       "      <td>M</td>\n",
       "      <td>0.440</td>\n",
       "      <td>0.365</td>\n",
       "      <td>0.125</td>\n",
       "      <td>0.5160</td>\n",
       "      <td>0.2155</td>\n",
       "      <td>0.1140</td>\n",
       "      <td>0.155</td>\n",
       "      <td>10</td>\n",
       "    </tr>\n",
       "    <tr>\n",
       "      <th>3</th>\n",
       "      <td>I</td>\n",
       "      <td>0.330</td>\n",
       "      <td>0.255</td>\n",
       "      <td>0.080</td>\n",
       "      <td>0.2050</td>\n",
       "      <td>0.0895</td>\n",
       "      <td>0.0395</td>\n",
       "      <td>0.055</td>\n",
       "      <td>7</td>\n",
       "    </tr>\n",
       "    <tr>\n",
       "      <th>4</th>\n",
       "      <td>I</td>\n",
       "      <td>0.425</td>\n",
       "      <td>0.300</td>\n",
       "      <td>0.095</td>\n",
       "      <td>0.3515</td>\n",
       "      <td>0.1410</td>\n",
       "      <td>0.0775</td>\n",
       "      <td>0.120</td>\n",
       "      <td>8</td>\n",
       "    </tr>\n",
       "  </tbody>\n",
       "</table>\n",
       "</div>"
      ],
      "text/plain": [
       "  Sex  Length  Diameter  Height  Whole Weight  Shuckled Weight  \\\n",
       "0   M   0.350     0.265   0.090        0.2255           0.0995   \n",
       "1   F   0.530     0.420   0.135        0.6770           0.2565   \n",
       "2   M   0.440     0.365   0.125        0.5160           0.2155   \n",
       "3   I   0.330     0.255   0.080        0.2050           0.0895   \n",
       "4   I   0.425     0.300   0.095        0.3515           0.1410   \n",
       "\n",
       "   Viscera Weight  Shell Weight  Rings  \n",
       "0          0.0485         0.070      7  \n",
       "1          0.1415         0.210      9  \n",
       "2          0.1140         0.155     10  \n",
       "3          0.0395         0.055      7  \n",
       "4          0.0775         0.120      8  "
      ]
     },
     "execution_count": 10,
     "metadata": {},
     "output_type": "execute_result"
    }
   ],
   "source": [
    "df.head()"
   ]
  },
  {
   "cell_type": "code",
   "execution_count": 11,
   "metadata": {},
   "outputs": [
    {
     "name": "stdout",
     "output_type": "stream",
     "text": [
      "<class 'pandas.core.frame.DataFrame'>\n",
      "RangeIndex: 4176 entries, 0 to 4175\n",
      "Data columns (total 9 columns):\n",
      " #   Column           Non-Null Count  Dtype  \n",
      "---  ------           --------------  -----  \n",
      " 0   Sex              4176 non-null   object \n",
      " 1   Length           4176 non-null   float64\n",
      " 2   Diameter         4176 non-null   float64\n",
      " 3   Height           4176 non-null   float64\n",
      " 4   Whole Weight     4176 non-null   float64\n",
      " 5   Shuckled Weight  4176 non-null   float64\n",
      " 6   Viscera Weight   4176 non-null   float64\n",
      " 7   Shell Weight     4176 non-null   float64\n",
      " 8   Rings            4176 non-null   int64  \n",
      "dtypes: float64(7), int64(1), object(1)\n",
      "memory usage: 293.8+ KB\n"
     ]
    }
   ],
   "source": [
    "df.info()"
   ]
  },
  {
   "cell_type": "code",
   "execution_count": 12,
   "metadata": {},
   "outputs": [
    {
     "data": {
      "text/plain": [
       "Sex                0\n",
       "Length             0\n",
       "Diameter           0\n",
       "Height             0\n",
       "Whole Weight       0\n",
       "Shuckled Weight    0\n",
       "Viscera Weight     0\n",
       "Shell Weight       0\n",
       "Rings              0\n",
       "dtype: int64"
      ]
     },
     "execution_count": 12,
     "metadata": {},
     "output_type": "execute_result"
    }
   ],
   "source": [
    "df.isnull().sum()"
   ]
  },
  {
   "cell_type": "code",
   "execution_count": 14,
   "metadata": {},
   "outputs": [
    {
     "data": {
      "text/plain": [
       "(4176, 9)"
      ]
     },
     "execution_count": 14,
     "metadata": {},
     "output_type": "execute_result"
    }
   ],
   "source": [
    "df.shape"
   ]
  },
  {
   "cell_type": "code",
   "execution_count": 39,
   "metadata": {},
   "outputs": [
    {
     "data": {
      "text/plain": [
       "<Axes: xlabel='Rings'>"
      ]
     },
     "execution_count": 39,
     "metadata": {},
     "output_type": "execute_result"
    },
    {
     "data": {
      "image/png": "[encoded data removed]",
      "text/plain": [
       "<Figure size 640x480 with 1 Axes>"
      ]
     },
     "metadata": {},
     "output_type": "display_data"
    }
   ],
   "source": [
    "sns.boxplot(x = 'Rings', data=df)"
   ]
  },
  {
   "cell_type": "code",
   "execution_count": 15,
   "metadata": {},
   "outputs": [],
   "source": [
    "from sklearn import preprocessing\n",
    "label_encoder = preprocessing.LabelEncoder()\n",
    "df['Sex']= label_encoder.fit_transform(df['Sex'])"
   ]
  },
  {
   "cell_type": "code",
   "execution_count": 16,
   "metadata": {},
   "outputs": [
    {
     "data": {
      "text/html": [
       "<div>\n",
       "<style scoped>\n",
       "    .dataframe tbody tr th:only-of-type {\n",
       "        vertical-align: middle;\n",
       "    }\n",
       "\n",
       "    .dataframe tbody tr th {\n",
       "        vertical-align: top;\n",
       "    }\n",
       "\n",
       "    .dataframe thead th {\n",
       "        text-align: right;\n",
       "    }\n",
       "</style>\n",
       "<table border=\"1\" class=\"dataframe\">\n",
       "  <thead>\n",
       "    <tr style=\"text-align: right;\">\n",
       "      <th></th>\n",
       "      <th>Sex</th>\n",
       "      <th>Length</th>\n",
       "      <th>Diameter</th>\n",
       "      <th>Height</th>\n",
       "      <th>Whole Weight</th>\n",
       "      <th>Shuckled Weight</th>\n",
       "      <th>Viscera Weight</th>\n",
       "      <th>Shell Weight</th>\n",
       "      <th>Rings</th>\n",
       "    </tr>\n",
       "  </thead>\n",
       "  <tbody>\n",
       "    <tr>\n",
       "      <th>0</th>\n",
       "      <td>2</td>\n",
       "      <td>0.350</td>\n",
       "      <td>0.265</td>\n",
       "      <td>0.090</td>\n",
       "      <td>0.2255</td>\n",
       "      <td>0.0995</td>\n",
       "      <td>0.0485</td>\n",
       "      <td>0.070</td>\n",
       "      <td>7</td>\n",
       "    </tr>\n",
       "    <tr>\n",
       "      <th>1</th>\n",
       "      <td>0</td>\n",
       "      <td>0.530</td>\n",
       "      <td>0.420</td>\n",
       "      <td>0.135</td>\n",
       "      <td>0.6770</td>\n",
       "      <td>0.2565</td>\n",
       "      <td>0.1415</td>\n",
       "      <td>0.210</td>\n",
       "      <td>9</td>\n",
       "    </tr>\n",
       "    <tr>\n",
       "      <th>2</th>\n",
       "      <td>2</td>\n",
       "      <td>0.440</td>\n",
       "      <td>0.365</td>\n",
       "      <td>0.125</td>\n",
       "      <td>0.5160</td>\n",
       "      <td>0.2155</td>\n",
       "      <td>0.1140</td>\n",
       "      <td>0.155</td>\n",
       "      <td>10</td>\n",
       "    </tr>\n",
       "    <tr>\n",
       "      <th>3</th>\n",
       "      <td>1</td>\n",
       "      <td>0.330</td>\n",
       "      <td>0.255</td>\n",
       "      <td>0.080</td>\n",
       "      <td>0.2050</td>\n",
       "      <td>0.0895</td>\n",
       "      <td>0.0395</td>\n",
       "      <td>0.055</td>\n",
       "      <td>7</td>\n",
       "    </tr>\n",
       "    <tr>\n",
       "      <th>4</th>\n",
       "      <td>1</td>\n",
       "      <td>0.425</td>\n",
       "      <td>0.300</td>\n",
       "      <td>0.095</td>\n",
       "      <td>0.3515</td>\n",
       "      <td>0.1410</td>\n",
       "      <td>0.0775</td>\n",
       "      <td>0.120</td>\n",
       "      <td>8</td>\n",
       "    </tr>\n",
       "  </tbody>\n",
       "</table>\n",
       "</div>"
      ],
      "text/plain": [
       "   Sex  Length  Diameter  Height  Whole Weight  Shuckled Weight  \\\n",
       "0    2   0.350     0.265   0.090        0.2255           0.0995   \n",
       "1    0   0.530     0.420   0.135        0.6770           0.2565   \n",
       "2    2   0.440     0.365   0.125        0.5160           0.2155   \n",
       "3    1   0.330     0.255   0.080        0.2050           0.0895   \n",
       "4    1   0.425     0.300   0.095        0.3515           0.1410   \n",
       "\n",
       "   Viscera Weight  Shell Weight  Rings  \n",
       "0          0.0485         0.070      7  \n",
       "1          0.1415         0.210      9  \n",
       "2          0.1140         0.155     10  \n",
       "3          0.0395         0.055      7  \n",
       "4          0.0775         0.120      8  "
      ]
     },
     "execution_count": 16,
     "metadata": {},
     "output_type": "execute_result"
    }
   ],
   "source": [
    "df.head()"
   ]
  },
  {
   "cell_type": "code",
   "execution_count": 18,
   "metadata": {},
   "outputs": [],
   "source": [
    "X = df.iloc[:,0:-1]\n",
    "y = df.iloc[:,-1]"
   ]
  },
  {
   "cell_type": "code",
   "execution_count": 19,
   "metadata": {},
   "outputs": [
    {
     "data": {
      "text/html": [
       "<div>\n",
       "<style scoped>\n",
       "    .dataframe tbody tr th:only-of-type {\n",
       "        vertical-align: middle;\n",
       "    }\n",
       "\n",
       "    .dataframe tbody tr th {\n",
       "        vertical-align: top;\n",
       "    }\n",
       "\n",
       "    .dataframe thead th {\n",
       "        text-align: right;\n",
       "    }\n",
       "</style>\n",
       "<table border=\"1\" class=\"dataframe\">\n",
       "  <thead>\n",
       "    <tr style=\"text-align: right;\">\n",
       "      <th></th>\n",
       "      <th>Sex</th>\n",
       "      <th>Length</th>\n",
       "      <th>Diameter</th>\n",
       "      <th>Height</th>\n",
       "      <th>Whole Weight</th>\n",
       "      <th>Shuckled Weight</th>\n",
       "      <th>Viscera Weight</th>\n",
       "      <th>Shell Weight</th>\n",
       "    </tr>\n",
       "  </thead>\n",
       "  <tbody>\n",
       "    <tr>\n",
       "      <th>0</th>\n",
       "      <td>2</td>\n",
       "      <td>0.350</td>\n",
       "      <td>0.265</td>\n",
       "      <td>0.090</td>\n",
       "      <td>0.2255</td>\n",
       "      <td>0.0995</td>\n",
       "      <td>0.0485</td>\n",
       "      <td>0.070</td>\n",
       "    </tr>\n",
       "    <tr>\n",
       "      <th>1</th>\n",
       "      <td>0</td>\n",
       "      <td>0.530</td>\n",
       "      <td>0.420</td>\n",
       "      <td>0.135</td>\n",
       "      <td>0.6770</td>\n",
       "      <td>0.2565</td>\n",
       "      <td>0.1415</td>\n",
       "      <td>0.210</td>\n",
       "    </tr>\n",
       "    <tr>\n",
       "      <th>2</th>\n",
       "      <td>2</td>\n",
       "      <td>0.440</td>\n",
       "      <td>0.365</td>\n",
       "      <td>0.125</td>\n",
       "      <td>0.5160</td>\n",
       "      <td>0.2155</td>\n",
       "      <td>0.1140</td>\n",
       "      <td>0.155</td>\n",
       "    </tr>\n",
       "    <tr>\n",
       "      <th>3</th>\n",
       "      <td>1</td>\n",
       "      <td>0.330</td>\n",
       "      <td>0.255</td>\n",
       "      <td>0.080</td>\n",
       "      <td>0.2050</td>\n",
       "      <td>0.0895</td>\n",
       "      <td>0.0395</td>\n",
       "      <td>0.055</td>\n",
       "    </tr>\n",
       "    <tr>\n",
       "      <th>4</th>\n",
       "      <td>1</td>\n",
       "      <td>0.425</td>\n",
       "      <td>0.300</td>\n",
       "      <td>0.095</td>\n",
       "      <td>0.3515</td>\n",
       "      <td>0.1410</td>\n",
       "      <td>0.0775</td>\n",
       "      <td>0.120</td>\n",
       "    </tr>\n",
       "  </tbody>\n",
       "</table>\n",
       "</div>"
      ],
      "text/plain": [
       "   Sex  Length  Diameter  Height  Whole Weight  Shuckled Weight  \\\n",
       "0    2   0.350     0.265   0.090        0.2255           0.0995   \n",
       "1    0   0.530     0.420   0.135        0.6770           0.2565   \n",
       "2    2   0.440     0.365   0.125        0.5160           0.2155   \n",
       "3    1   0.330     0.255   0.080        0.2050           0.0895   \n",
       "4    1   0.425     0.300   0.095        0.3515           0.1410   \n",
       "\n",
       "   Viscera Weight  Shell Weight  \n",
       "0          0.0485         0.070  \n",
       "1          0.1415         0.210  \n",
       "2          0.1140         0.155  \n",
       "3          0.0395         0.055  \n",
       "4          0.0775         0.120  "
      ]
     },
     "execution_count": 19,
     "metadata": {},
     "output_type": "execute_result"
    }
   ],
   "source": [
    "X.head()"
   ]
  },
  {
   "cell_type": "code",
   "execution_count": 20,
   "metadata": {},
   "outputs": [
    {
     "data": {
      "text/plain": [
       "0     7\n",
       "1     9\n",
       "2    10\n",
       "3     7\n",
       "4     8\n",
       "Name: Rings, dtype: int64"
      ]
     },
     "execution_count": 20,
     "metadata": {},
     "output_type": "execute_result"
    }
   ],
   "source": [
    "y.head()"
   ]
  },
  {
   "cell_type": "code",
   "execution_count": 22,
   "metadata": {},
   "outputs": [],
   "source": [
    "#creating 10 different samples of dataset (70%-30%)\n",
    "from sklearn.model_selection import train_test_split\n",
    "samples=[]\n",
    "for i in range(0,10):\n",
    "    X_train, X_test, y_train, y_test = train_test_split(X, y, test_size=0.3)\n",
    "    samples.append((X_train, X_test, y_train, y_test))"
   ]
  },
  {
   "cell_type": "code",
   "execution_count": 26,
   "metadata": {},
   "outputs": [
    {
     "data": {
      "text/plain": [
       "(      Sex  Length  Diameter  Height  Whole Weight  Shuckled Weight  \\\n",
       " 1082    1   0.440     0.330   0.110        0.3705           0.1545   \n",
       " 2518    1   0.505     0.390   0.185        0.6125           0.2670   \n",
       " 801     2   0.425     0.330   0.130        0.4405           0.1520   \n",
       " 4169    2   0.550     0.430   0.130        0.8395           0.3155   \n",
       " 3695    2   0.650     0.525   0.205        1.4275           0.6900   \n",
       " ...   ...     ...       ...     ...           ...              ...   \n",
       " 3451    0   0.555     0.440   0.145        0.8815           0.4300   \n",
       " 662     0   0.380     0.305   0.105        0.2810           0.1045   \n",
       " 3443    0   0.490     0.400   0.115        0.5690           0.2560   \n",
       " 1847    1   0.475     0.340   0.105        0.4535           0.2030   \n",
       " 2778    2   0.590     0.470   0.145        0.9235           0.4545   \n",
       " \n",
       "       Viscera Weight  Shell Weight  \n",
       " 1082          0.0840        0.1200  \n",
       " 2518          0.1420        0.1720  \n",
       " 801           0.0935        0.1550  \n",
       " 4169          0.1955        0.2405  \n",
       " 3695          0.3060        0.4355  \n",
       " ...              ...           ...  \n",
       " 3451          0.1975        0.2155  \n",
       " 662           0.0615        0.0900  \n",
       " 3443          0.1325        0.1450  \n",
       " 1847          0.0800        0.1465  \n",
       " 2778          0.1730        0.2540  \n",
       " \n",
       " [2923 rows x 8 columns],\n",
       "       Sex  Length  Diameter  Height  Whole Weight  Shuckled Weight  \\\n",
       " 3034    1   0.550     0.405   0.150        0.6755           0.3015   \n",
       " 1695    2   0.630     0.490   0.170        1.1745           0.5255   \n",
       " 3209    2   0.565     0.450   0.140        1.0055           0.3785   \n",
       " 3129    2   0.670     0.515   0.165        1.1735           0.5260   \n",
       " 2961    1   0.670     0.485   0.175        1.2565           0.5355   \n",
       " ...   ...     ...       ...     ...           ...              ...   \n",
       " 1186    2   0.685     0.520   0.165        1.5190           0.6990   \n",
       " 2050    0   0.455     0.355   1.130        0.5940           0.3320   \n",
       " 3746    1   0.385     0.290   0.100        0.2575           0.1000   \n",
       " 2058    1   0.490     0.370   0.110        0.5380           0.2710   \n",
       " 3646    1   0.485     0.365   0.125        0.4260           0.1630   \n",
       " \n",
       "       Viscera Weight  Shell Weight  \n",
       " 3034          0.1465        0.2100  \n",
       " 1695          0.2730        0.3390  \n",
       " 3209          0.2440        0.2650  \n",
       " 3129          0.2850        0.3160  \n",
       " 2961          0.3220        0.3860  \n",
       " ...              ...           ...  \n",
       " 1186          0.3685        0.4000  \n",
       " 2050          0.1160        0.1335  \n",
       " 3746          0.0610        0.0860  \n",
       " 2058          0.1035        0.1390  \n",
       " 3646          0.0965        0.1510  \n",
       " \n",
       " [1253 rows x 8 columns],\n",
       " 1082     7\n",
       " 2518     7\n",
       " 801      9\n",
       " 4169    10\n",
       " 3695    13\n",
       "         ..\n",
       " 3451     8\n",
       " 662     12\n",
       " 3443     9\n",
       " 1847     9\n",
       " 2778     9\n",
       " Name: Rings, Length: 2923, dtype: int64,\n",
       " 3034    10\n",
       " 1695    11\n",
       " 3209    12\n",
       " 3129    11\n",
       " 2961     9\n",
       "         ..\n",
       " 1186    10\n",
       " 2050     8\n",
       " 3746     6\n",
       " 2058     8\n",
       " 3646     8\n",
       " Name: Rings, Length: 1253, dtype: int64)"
      ]
     },
     "execution_count": 26,
     "metadata": {},
     "output_type": "execute_result"
    }
   ],
   "source": [
    "samples[0]"
   ]
  },
  {
   "cell_type": "code",
   "execution_count": 27,
   "metadata": {},
   "outputs": [
    {
     "data": {
      "text/plain": [
       "(      Sex  Length  Diameter  Height  Whole Weight  Shuckled Weight  \\\n",
       " 1113    1   0.525     0.400   0.140        0.6010           0.2625   \n",
       " 894     1   0.255     0.190   0.050        0.0830           0.0295   \n",
       " 494     0   0.625     0.500   0.150        0.9530           0.3445   \n",
       " 1513    0   0.655     0.540   0.215        1.5555           0.6950   \n",
       " 479     0   0.700     0.585   0.185        1.8075           0.7055   \n",
       " ...   ...     ...       ...     ...           ...              ...   \n",
       " 1134    1   0.570     0.440   0.150        0.7550           0.3425   \n",
       " 1937    2   0.625     0.505   0.185        1.1565           0.5200   \n",
       " 3416    2   0.580     0.460   0.150        1.0165           0.4910   \n",
       " 2908    0   0.580     0.450   0.150        0.9200           0.3930   \n",
       " 3258    2   0.640     0.505   0.165        1.4435           0.6145   \n",
       " \n",
       "       Viscera Weight  Shell Weight  \n",
       " 1113          0.1285        0.1835  \n",
       " 894           0.0215        0.0270  \n",
       " 494           0.2235        0.3050  \n",
       " 1513          0.2960        0.4440  \n",
       " 479           0.3215        0.4750  \n",
       " ...              ...           ...  \n",
       " 1134          0.1600        0.2240  \n",
       " 1937          0.2405        0.3535  \n",
       " 3416          0.2210        0.2650  \n",
       " 2908          0.2120        0.2895  \n",
       " 3258          0.3035        0.3900  \n",
       " \n",
       " [2923 rows x 8 columns],\n",
       "       Sex  Length  Diameter  Height  Whole Weight  Shuckled Weight  \\\n",
       " 1174    2   0.640     0.515   0.165        1.3690           0.6320   \n",
       " 1141    2   0.575     0.445   0.170        1.0225           0.5490   \n",
       " 4104    0   0.715     0.565   0.180        1.7900           0.8440   \n",
       " 2325    2   0.430     0.345   0.115        0.3045           0.0925   \n",
       " 861     2   0.600     0.475   0.175        1.3445           0.5490   \n",
       " ...   ...     ...       ...     ...           ...              ...   \n",
       " 532     0   0.435     0.335   0.110        0.3800           0.1695   \n",
       " 4065    1   0.395     0.310   0.085        0.3170           0.1530   \n",
       " 2498    2   0.540     0.410   0.145        0.9890           0.2815   \n",
       " 673     0   0.490     0.385   0.150        0.7865           0.2410   \n",
       " 908     1   0.335     0.250   0.075        0.1860           0.0945   \n",
       " \n",
       "       Viscera Weight  Shell Weight  \n",
       " 1174          0.3415        0.3580  \n",
       " 1141          0.2175        0.2280  \n",
       " 4104          0.3535        0.5385  \n",
       " 2325          0.0550        0.1200  \n",
       " 861           0.2875        0.3600  \n",
       " ...              ...           ...  \n",
       " 532           0.0860        0.1100  \n",
       " 4065          0.0505        0.0935  \n",
       " 2498          0.2130        0.3550  \n",
       " 673           0.1400        0.2400  \n",
       " 908           0.0380        0.0445  \n",
       " \n",
       " [1253 rows x 8 columns],\n",
       " 1113     9\n",
       " 894      6\n",
       " 494     15\n",
       " 1513    11\n",
       " 479     29\n",
       "         ..\n",
       " 1134     8\n",
       " 1937    10\n",
       " 3416     9\n",
       " 2908     9\n",
       " 3258    18\n",
       " Name: Rings, Length: 2923, dtype: int64,\n",
       " 1174    10\n",
       " 1141     9\n",
       " 4104     9\n",
       " 2325    11\n",
       " 861     11\n",
       "         ..\n",
       " 532      9\n",
       " 4065     7\n",
       " 2498    19\n",
       " 673     23\n",
       " 908      7\n",
       " Name: Rings, Length: 1253, dtype: int64)"
      ]
     },
     "execution_count": 27,
     "metadata": {},
     "output_type": "execute_result"
    }
   ],
   "source": [
    "samples[1]"
   ]
  },
  {
   "cell_type": "code",
   "execution_count": 29,
   "metadata": {},
   "outputs": [],
   "source": [
    "kernels = ['linear', 'poly', 'sigmoid', 'rbf']\n",
    "final = pd.DataFrame(columns=['Sample', 'Best Accuracy', 'Best Kernel', 'Best Nu', 'Best Epsilon'])"
   ]
  },
  {
   "cell_type": "code",
   "execution_count": 30,
   "metadata": {},
   "outputs": [],
   "source": [
    "def fitnessFunction(kernel, C, gamma):\n",
    "  svm = SVC(kernel=kernel, C=C, gamma=gamma, max_iter=1000)\n",
    "  svm.fit(X_train, y_train)\n",
    "  y_pred = svm.predict(X_test)\n",
    "  return accuracy_score(y_pred, y_test)"
   ]
  },
  {
   "cell_type": "code",
   "execution_count": 31,
   "metadata": {},
   "outputs": [
    {
     "name": "stdout",
     "output_type": "stream",
     "text": [
      "Best Accuracy =  0.27 Best Kernel =  rbf Best Nu =  9.88 Best Epsilon =  9.69\n",
      "Best Accuracy =  0.27 Best Kernel =  linear Best Nu =  8.26 Best Epsilon =  9.67\n",
      "Best Accuracy =  0.28 Best Kernel =  linear Best Nu =  5.03 Best Epsilon =  1.17\n",
      "Best Accuracy =  0.27 Best Kernel =  rbf Best Nu =  5.98 Best Epsilon =  2.92\n",
      "Best Accuracy =  0.26 Best Kernel =  rbf Best Nu =  5.56 Best Epsilon =  2.86\n",
      "Best Accuracy =  0.27 Best Kernel =  linear Best Nu =  5.94 Best Epsilon =  10.0\n",
      "Best Accuracy =  0.26 Best Kernel =  rbf Best Nu =  5.2 Best Epsilon =  6.42\n",
      "Best Accuracy =  0.27 Best Kernel =  linear Best Nu =  6.35 Best Epsilon =  1.63\n",
      "Best Accuracy =  0.26 Best Kernel =  rbf Best Nu =  8.36 Best Epsilon =  6.58\n",
      "Best Accuracy =  0.28 Best Kernel =  rbf Best Nu =  0.91 Best Epsilon =  4.25\n"
     ]
    }
   ],
   "source": [
    "for i in range(len(samples)):\n",
    "  best_accuracy = 0\n",
    "  best_C = 0\n",
    "  best_gamma = 0\n",
    "  for kernel in kernels:\n",
    "    X_train, X_test, y_train, y_test = samples[i]\n",
    "    C = np.random.uniform(0, 10)\n",
    "    gamma = np.random.uniform(0, 10)\n",
    "    score = fitnessFunction(kernel, C, gamma)\n",
    "    if score>best_accuracy:\n",
    "      best_accuracy = round(score, 2)\n",
    "      best_C = round(C, 2)\n",
    "      best_gamma = round(gamma, 2)\n",
    "      best_kernel = kernel\n",
    "  print('Best Accuracy = ', best_accuracy, 'Best Kernel = ', best_kernel, 'Best Nu = ', best_C, 'Best Epsilon = ', best_gamma)\n",
    "  final.loc[i] = [i+1, best_accuracy, best_kernel, best_C, best_gamma]"
   ]
  },
  {
   "cell_type": "code",
   "execution_count": 32,
   "metadata": {},
   "outputs": [
    {
     "data": {
      "text/html": [
       "<div>\n",
       "<style scoped>\n",
       "    .dataframe tbody tr th:only-of-type {\n",
       "        vertical-align: middle;\n",
       "    }\n",
       "\n",
       "    .dataframe tbody tr th {\n",
       "        vertical-align: top;\n",
       "    }\n",
       "\n",
       "    .dataframe thead th {\n",
       "        text-align: right;\n",
       "    }\n",
       "</style>\n",
       "<table border=\"1\" class=\"dataframe\">\n",
       "  <thead>\n",
       "    <tr style=\"text-align: right;\">\n",
       "      <th></th>\n",
       "      <th>Sample</th>\n",
       "      <th>Best Accuracy</th>\n",
       "      <th>Best Kernel</th>\n",
       "      <th>Best Nu</th>\n",
       "      <th>Best Epsilon</th>\n",
       "    </tr>\n",
       "  </thead>\n",
       "  <tbody>\n",
       "    <tr>\n",
       "      <th>0</th>\n",
       "      <td>1</td>\n",
       "      <td>0.27</td>\n",
       "      <td>rbf</td>\n",
       "      <td>9.88</td>\n",
       "      <td>9.69</td>\n",
       "    </tr>\n",
       "    <tr>\n",
       "      <th>1</th>\n",
       "      <td>2</td>\n",
       "      <td>0.27</td>\n",
       "      <td>linear</td>\n",
       "      <td>8.26</td>\n",
       "      <td>9.67</td>\n",
       "    </tr>\n",
       "    <tr>\n",
       "      <th>2</th>\n",
       "      <td>3</td>\n",
       "      <td>0.28</td>\n",
       "      <td>linear</td>\n",
       "      <td>5.03</td>\n",
       "      <td>1.17</td>\n",
       "    </tr>\n",
       "    <tr>\n",
       "      <th>3</th>\n",
       "      <td>4</td>\n",
       "      <td>0.27</td>\n",
       "      <td>rbf</td>\n",
       "      <td>5.98</td>\n",
       "      <td>2.92</td>\n",
       "    </tr>\n",
       "    <tr>\n",
       "      <th>4</th>\n",
       "      <td>5</td>\n",
       "      <td>0.26</td>\n",
       "      <td>rbf</td>\n",
       "      <td>5.56</td>\n",
       "      <td>2.86</td>\n",
       "    </tr>\n",
       "    <tr>\n",
       "      <th>5</th>\n",
       "      <td>6</td>\n",
       "      <td>0.27</td>\n",
       "      <td>linear</td>\n",
       "      <td>5.94</td>\n",
       "      <td>10.00</td>\n",
       "    </tr>\n",
       "    <tr>\n",
       "      <th>6</th>\n",
       "      <td>7</td>\n",
       "      <td>0.26</td>\n",
       "      <td>rbf</td>\n",
       "      <td>5.20</td>\n",
       "      <td>6.42</td>\n",
       "    </tr>\n",
       "    <tr>\n",
       "      <th>7</th>\n",
       "      <td>8</td>\n",
       "      <td>0.27</td>\n",
       "      <td>linear</td>\n",
       "      <td>6.35</td>\n",
       "      <td>1.63</td>\n",
       "    </tr>\n",
       "    <tr>\n",
       "      <th>8</th>\n",
       "      <td>9</td>\n",
       "      <td>0.26</td>\n",
       "      <td>rbf</td>\n",
       "      <td>8.36</td>\n",
       "      <td>6.58</td>\n",
       "    </tr>\n",
       "    <tr>\n",
       "      <th>9</th>\n",
       "      <td>10</td>\n",
       "      <td>0.28</td>\n",
       "      <td>rbf</td>\n",
       "      <td>0.91</td>\n",
       "      <td>4.25</td>\n",
       "    </tr>\n",
       "  </tbody>\n",
       "</table>\n",
       "</div>"
      ],
      "text/plain": [
       "   Sample  Best Accuracy Best Kernel  Best Nu  Best Epsilon\n",
       "0       1           0.27         rbf     9.88          9.69\n",
       "1       2           0.27      linear     8.26          9.67\n",
       "2       3           0.28      linear     5.03          1.17\n",
       "3       4           0.27         rbf     5.98          2.92\n",
       "4       5           0.26         rbf     5.56          2.86\n",
       "5       6           0.27      linear     5.94         10.00\n",
       "6       7           0.26         rbf     5.20          6.42\n",
       "7       8           0.27      linear     6.35          1.63\n",
       "8       9           0.26         rbf     8.36          6.58\n",
       "9      10           0.28         rbf     0.91          4.25"
      ]
     },
     "execution_count": 32,
     "metadata": {},
     "output_type": "execute_result"
    }
   ],
   "source": [
    "final"
   ]
  },
  {
   "cell_type": "code",
   "execution_count": 34,
   "metadata": {},
   "outputs": [],
   "source": [
    "X_train, X_test, y_train, y_test = samples[final['Best Accuracy'].idxmax()]"
   ]
  },
  {
   "cell_type": "code",
   "execution_count": 35,
   "metadata": {},
   "outputs": [],
   "source": [
    "k=final['Best Kernel'].iloc[final['Best Accuracy'].idxmax()]\n",
    "c=final['Best Nu'].iloc[final['Best Accuracy'].idxmax()]\n",
    "g=final['Best Epsilon'].iloc[final['Best Accuracy'].idxmax()]\n",
    "svc=SVC(kernel=k, C=c, gamma=g, max_iter = 1000)\n",
    "train_sizes, train_scores, test_scores = learning_curve(svc, X_train, y_train, cv=10, scoring='accuracy', n_jobs=-1, train_sizes = np.linspace(0.01, 1.0, 50))"
   ]
  },
  {
   "cell_type": "code",
   "execution_count": 36,
   "metadata": {},
   "outputs": [],
   "source": [
    "mean_train = np.mean(train_scores, axis=1)\n",
    "mean_test = np.mean(test_scores, axis=1) "
   ]
  },
  {
   "cell_type": "code",
   "execution_count": 41,
   "metadata": {},
   "outputs": [
    {
     "data": {
      "image/png": "[encoded data removed]",
      "text/plain": [
       "<Figure size 500x500 with 1 Axes>"
      ]
     },
     "metadata": {},
     "output_type": "display_data"
    }
   ],
   "source": [
    "plt.figure(figsize=(5, 5))\n",
    "#x_side=[i for i in range(1000)]\n",
    "y_side=final['Best Accuracy']\n",
    "plt.plot(train_sizes, mean_train, label='Training Score')\n",
    "plt.plot(train_sizes, mean_test, label='Cross-Validation Score')\n",
    "plt.xlabel('Iterations')\n",
    "plt.ylabel('Accuracy')\n",
    "plt.title('Convergence Graph of Best SVM')\n",
    "plt.legend(loc=\"best\")\n",
    "plt.show()"
   ]
  }
 ],
 "metadata": {
  "kernelspec": {
   "display_name": "base",
   "language": "python",
   "name": "python3"
  },
  "language_info": {
   "codemirror_mode": {
    "name": "ipython",
    "version": 3
   },
   "file_extension": ".py",
   "mimetype": "text/x-python",
   "name": "python",
   "nbconvert_exporter": "python",
   "pygments_lexer": "ipython3",
   "version": "3.10.9"
  },
  "orig_nbformat": 4
 },
 "nbformat": 4,
 "nbformat_minor": 2
}
